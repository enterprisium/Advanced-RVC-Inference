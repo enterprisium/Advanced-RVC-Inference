{
  "cells": [
    {
      "cell_type": "code",
      "execution_count": null,
      "metadata": {
        "id": "sqjd8kK876Sk"
      },
      "outputs": [],
      "source": [
        "#@title Check GPU\n",
        "!nvidia-smi"
      ]
    },
    {
      "cell_type": "code",
      "execution_count": null,
      "metadata": {
        "id": "c28v0Z6-76Sq"
      },
      "outputs": [],
      "source": [
        "#@title Install Dependencies\n",
        "!apt-get update\n",
        "!apt-get install -qq -y aria2\n",
        "!git clone -b master https://github.com/enterprisium/Advanced-RVC-Inference\n",
        "!pip install -r /content/Advanced-RVC-Inference/requirements.txt"
      ]
    },
    {
      "cell_type": "code",
      "execution_count": null,
      "metadata": {
        "id": "nYQGGLf876Sr"
      },
      "outputs": [],
      "source": [
        "#@title Download Hubert & RMVPE Model\n",
        "!aria2c --console-log-level=error -c -x 16 -s 16 -k 1M https://huggingface.co/lj1995/VoiceConversionWebUI/resolve/main/hubert_base.pt -d /content/Advanced-RVC-Inference -o hubert_base.pt\n",
        "!aria2c --console-log-level=error -c -x 16 -s 16 -k 1M https://huggingface.co/lj1995/VoiceConversionWebUI/resolve/main/rmvpe.pt -d /content/Advanced-RVC-Inference -o rmvpe.pt"
      ]
    },
    {
      "cell_type": "code",
      "execution_count": null,
      "metadata": {
        "id": "H8cL4PpS76Ss"
      },
      "outputs": [],
      "source": [
        "#@title Run\n",
        "%cd /content/Advanced-RVC-Inference\n",
        "!python infer.py --colab"
      ]
    }
  ],
  "metadata": {
    "language_info": {
      "name": "python"
    },
    "orig_nbformat": 4,
    "colab": {
      "provenance": []
    },
    "kernelspec": {
      "name": "python3",
      "display_name": "Python 3"
    }
  },
  "nbformat": 4,
  "nbformat_minor": 0
}